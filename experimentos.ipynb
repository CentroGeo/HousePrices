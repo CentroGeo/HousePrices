{
 "cells": [
  {
   "cell_type": "markdown",
   "metadata": {},
   "source": [
    "### Gradient Boosting\n",
    "\n",
    "Otro método de ensamble....\n",
    "\n",
    "\n",
    "Primero importamos todo lo que vamos a necesitar"
   ]
  },
  {
   "cell_type": "code",
   "execution_count": 19,
   "metadata": {},
   "outputs": [],
   "source": [
    "%matplotlib inline \n",
    "import matplotlib.pylab as plt \n",
    "import numpy as np \n",
    "from scipy import sparse\n",
    "from sklearn.model_selection import train_test_split, ShuffleSplit , learning_curve, GridSearchCV\n",
    "from sklearn import metrics \n",
    "from sklearn.ensemble import GradientBoostingRegressor \n",
    "from pprint import pprint \n",
    "import pandas as pd \n",
    "import seaborn"
   ]
  },
  {
   "cell_type": "markdown",
   "metadata": {},
   "source": [
    "Primero leemos los datos y dividimos la muestra en entrenamiento y prueba."
   ]
  },
  {
   "cell_type": "code",
   "execution_count": 20,
   "metadata": {},
   "outputs": [],
   "source": [
    "df_train = pd.read_csv(\"data/train_preprocesado.csv\")\n",
    "#por alguna razón quedaron dos Na en BsmtCond, así los quitamos pero en realidad hay que regresar a ver qué pasó\n",
    "df_train.dropna(inplace=True)\n",
    "# separamos en entrenamiento y validación\n",
    "train, test = train_test_split(df_train, test_size=0.2)\n",
    "# creamos dataframes para las variables y el objetivo\n",
    "Y_train = train['SalePrice']\n",
    "X_train = train.drop(['SalePrice','Id'], axis=1)\n",
    "Y_test = test['SalePrice']\n",
    "X_test = test.drop(['SalePrice','Id'], axis=1)"
   ]
  },
  {
   "cell_type": "markdown",
   "metadata": {},
   "source": [
    "Vamos a ajustar los hiperparámetros del método haciendo validación cruzada. Por convenciencia, podemos empaquetar el proceso en una función para poder reutilizarlo"
   ]
  },
  {
   "cell_type": "code",
   "execution_count": 21,
   "metadata": {},
   "outputs": [],
   "source": [
    "def gbCv(X, Y, param_grid, n_jobs):\n",
    "    estimator = GradientBoostingRegressor()\n",
    "    cv = ShuffleSplit(n_splits=5, test_size=0.2)\n",
    "    regressor = GridSearchCV(estimator=estimator, cv=cv, param_grid=param_grid, n_jobs=n_jobs)\n",
    "    regressor.fit(X,Y)\n",
    "    return cv, regressor.best_estimator_"
   ]
  },
  {
   "cell_type": "markdown",
   "metadata": {},
   "source": [
    "Ahora vamos a usar la función para estimar los hiperparámetros del método"
   ]
  },
  {
   "cell_type": "code",
   "execution_count": null,
   "metadata": {},
   "outputs": [],
   "source": [
    "param_grid = {\n",
    "    'n_estimators': [int(x) for x in np.linspace(start = 200, stop = 2000, num = 10)],\n",
    "    'learning_rate': [0.02, 0.05, 0.1, 0.12],\n",
    "    'max_depth': [4, 6, 10, 15],\n",
    "    'min_samples_leaf': [1, 2, 4],\n",
    "    'max_features': [0.1, 0.3, 1.0]\n",
    "}\n",
    "\n",
    "cv, best_estimator = gbCv(X_train, Y_train, param_grid, -1)"
   ]
  },
  {
   "cell_type": "code",
   "execution_count": null,
   "metadata": {},
   "outputs": [],
   "source": []
  }
 ],
 "metadata": {
  "kernelspec": {
   "display_name": "Python 3",
   "language": "python",
   "name": "python3"
  },
  "language_info": {
   "codemirror_mode": {
    "name": "ipython",
    "version": 3
   },
   "file_extension": ".py",
   "mimetype": "text/x-python",
   "name": "python",
   "nbconvert_exporter": "python",
   "pygments_lexer": "ipython3",
   "version": "3.7.3"
  }
 },
 "nbformat": 4,
 "nbformat_minor": 4
}
